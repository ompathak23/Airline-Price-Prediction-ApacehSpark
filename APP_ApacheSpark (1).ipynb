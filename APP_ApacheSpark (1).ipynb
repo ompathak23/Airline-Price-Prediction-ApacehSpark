{
  "nbformat": 4,
  "nbformat_minor": 0,
  "metadata": {
    "colab": {
      "name": "APP_ApacheSpark.ipynb",
      "provenance": []
    },
    "kernelspec": {
      "name": "python3",
      "display_name": "Python 3"
    },
    "language_info": {
      "name": "python"
    }
  },
  "cells": [
    {
      "cell_type": "code",
      "source": [
        "!pip install pyspark\n",
        "!pip install findspark"
      ],
      "metadata": {
        "colab": {
          "base_uri": "https://localhost:8080/"
        },
        "id": "Xz5aE3Ceual1",
        "outputId": "04007f0f-d55c-45b7-9c83-dc5f4ac5341c"
      },
      "execution_count": null,
      "outputs": [
        {
          "output_type": "stream",
          "name": "stdout",
          "text": [
            "Collecting pyspark\n",
            "  Downloading pyspark-3.2.1.tar.gz (281.4 MB)\n",
            "\u001b[K     |████████████████████████████████| 281.4 MB 35 kB/s \n",
            "\u001b[?25hCollecting py4j==0.10.9.3\n",
            "  Downloading py4j-0.10.9.3-py2.py3-none-any.whl (198 kB)\n",
            "\u001b[K     |████████████████████████████████| 198 kB 35.4 MB/s \n",
            "\u001b[?25hBuilding wheels for collected packages: pyspark\n",
            "  Building wheel for pyspark (setup.py) ... \u001b[?25l\u001b[?25hdone\n",
            "  Created wheel for pyspark: filename=pyspark-3.2.1-py2.py3-none-any.whl size=281853642 sha256=358a11921e9c1dd758c966b3c0a7d0bad705add82bee3d0817296f703a7115b6\n",
            "  Stored in directory: /root/.cache/pip/wheels/9f/f5/07/7cd8017084dce4e93e84e92efd1e1d5334db05f2e83bcef74f\n",
            "Successfully built pyspark\n",
            "Installing collected packages: py4j, pyspark\n",
            "Successfully installed py4j-0.10.9.3 pyspark-3.2.1\n",
            "Collecting findspark\n",
            "  Downloading findspark-2.0.1-py2.py3-none-any.whl (4.4 kB)\n",
            "Installing collected packages: findspark\n",
            "Successfully installed findspark-2.0.1\n"
          ]
        }
      ]
    },
    {
      "cell_type": "code",
      "execution_count": null,
      "metadata": {
        "id": "B1bKUMYS5iM9"
      },
      "outputs": [],
      "source": [
        "import findspark\n",
        "findspark.init()\n",
        "\n",
        "import pyspark"
      ]
    },
    {
      "cell_type": "code",
      "source": [
        "from pyspark.sql import SparkSession\n",
        "spark = SparkSession.builder.appName('Flight_ticket_prediction').getOrCreate()"
      ],
      "metadata": {
        "id": "Iu-E9aF1vANV"
      },
      "execution_count": null,
      "outputs": []
    },
    {
      "cell_type": "code",
      "source": [
        "import pandas as pd\n",
        "\n",
        "from pyspark.ml.linalg import Vectors\n",
        "from pyspark.ml.feature import StringIndexer, OneHotEncoder, VectorAssembler\n",
        "\n",
        "import pyspark.sql.functions as f"
      ],
      "metadata": {
        "id": "Nc_m87vUvGZU"
      },
      "execution_count": null,
      "outputs": []
    },
    {
      "cell_type": "code",
      "source": [
        "from google.colab import files\n",
        "uploaded = files.upload()"
      ],
      "metadata": {
        "colab": {
          "resources": {
            "http://localhost:8080/nbextensions/google.colab/files.js": {
              "data": "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",
              "ok": true,
              "headers": [
                [
                  "content-type",
                  "application/javascript"
                ]
              ],
              "status": 200,
              "status_text": ""
            }
          },
          "base_uri": "https://localhost:8080/",
          "height": 110
        },
        "id": "Wvuco5R5vMvB",
        "outputId": "89b778b4-ef21-4679-f0e3-2de79e034193"
      },
      "execution_count": null,
      "outputs": [
        {
          "output_type": "display_data",
          "data": {
            "text/plain": [
              "<IPython.core.display.HTML object>"
            ],
            "text/html": [
              "\n",
              "     <input type=\"file\" id=\"files-9de230ee-5fe2-4fcf-b577-b04f42c27505\" name=\"files[]\" multiple disabled\n",
              "        style=\"border:none\" />\n",
              "     <output id=\"result-9de230ee-5fe2-4fcf-b577-b04f42c27505\">\n",
              "      Upload widget is only available when the cell has been executed in the\n",
              "      current browser session. Please rerun this cell to enable.\n",
              "      </output>\n",
              "      <script src=\"/nbextensions/google.colab/files.js\"></script> "
            ]
          },
          "metadata": {}
        },
        {
          "output_type": "stream",
          "name": "stdout",
          "text": [
            "Saving Test_set.xlsx to Test_set.xlsx\n",
            "Saving Data_Train.xlsx to Data_Train.xlsx\n"
          ]
        }
      ]
    },
    {
      "cell_type": "code",
      "source": [
        "read_file = pd.read_excel (\"Data_Train.xlsx\") \n",
        "\n",
        "read_file.to_csv (\"Data_Train.csv\", index = None, header=True) \n",
        "\n",
        "train_df = spark.read.csv(\"Data_Train.csv\", inferSchema = True, header = True)\n",
        "train_df.show()"
      ],
      "metadata": {
        "colab": {
          "base_uri": "https://localhost:8080/"
        },
        "id": "nk_4u3uGvf_t",
        "outputId": "e5e68701-35fc-44be-98c3-0d3fd017b989"
      },
      "execution_count": null,
      "outputs": [
        {
          "output_type": "stream",
          "name": "stdout",
          "text": [
            "+-----------------+---------------+--------+-----------+--------------------+--------+------------+--------+-----------+--------------------+-----+\n",
            "|          Airline|Date_of_Journey|  Source|Destination|               Route|Dep_Time|Arrival_Time|Duration|Total_Stops|     Additional_Info|Price|\n",
            "+-----------------+---------------+--------+-----------+--------------------+--------+------------+--------+-----------+--------------------+-----+\n",
            "|           IndiGo|     24/03/2019|Banglore|  New Delhi|           BLR → DEL|   22:20|01:10 22 Mar|  2h 50m|   non-stop|             No info| 3897|\n",
            "|        Air India|      1/05/2019| Kolkata|   Banglore|CCU → IXR → BBI →...|   05:50|       13:15|  7h 25m|    2 stops|             No info| 7662|\n",
            "|      Jet Airways|      9/06/2019|   Delhi|     Cochin|DEL → LKO → BOM →...|   09:25|04:25 10 Jun|     19h|    2 stops|             No info|13882|\n",
            "|           IndiGo|     12/05/2019| Kolkata|   Banglore|     CCU → NAG → BLR|   18:05|       23:30|  5h 25m|     1 stop|             No info| 6218|\n",
            "|           IndiGo|     01/03/2019|Banglore|  New Delhi|     BLR → NAG → DEL|   16:50|       21:35|  4h 45m|     1 stop|             No info|13302|\n",
            "|         SpiceJet|     24/06/2019| Kolkata|   Banglore|           CCU → BLR|   09:00|       11:25|  2h 25m|   non-stop|             No info| 3873|\n",
            "|      Jet Airways|     12/03/2019|Banglore|  New Delhi|     BLR → BOM → DEL|   18:55|10:25 13 Mar| 15h 30m|     1 stop|In-flight meal no...|11087|\n",
            "|      Jet Airways|     01/03/2019|Banglore|  New Delhi|     BLR → BOM → DEL|   08:00|05:05 02 Mar|  21h 5m|     1 stop|             No info|22270|\n",
            "|      Jet Airways|     12/03/2019|Banglore|  New Delhi|     BLR → BOM → DEL|   08:55|10:25 13 Mar| 25h 30m|     1 stop|In-flight meal no...|11087|\n",
            "|Multiple carriers|     27/05/2019|   Delhi|     Cochin|     DEL → BOM → COK|   11:25|       19:15|  7h 50m|     1 stop|             No info| 8625|\n",
            "|        Air India|      1/06/2019|   Delhi|     Cochin|     DEL → BLR → COK|   09:45|       23:00| 13h 15m|     1 stop|             No info| 8907|\n",
            "|           IndiGo|     18/04/2019| Kolkata|   Banglore|           CCU → BLR|   20:20|       22:55|  2h 35m|   non-stop|             No info| 4174|\n",
            "|        Air India|     24/06/2019| Chennai|    Kolkata|           MAA → CCU|   11:40|       13:55|  2h 15m|   non-stop|             No info| 4667|\n",
            "|      Jet Airways|      9/05/2019| Kolkata|   Banglore|     CCU → BOM → BLR|   21:10|09:20 10 May| 12h 10m|     1 stop|In-flight meal no...| 9663|\n",
            "|           IndiGo|     24/04/2019| Kolkata|   Banglore|           CCU → BLR|   17:15|       19:50|  2h 35m|   non-stop|             No info| 4804|\n",
            "|        Air India|      3/03/2019|   Delhi|     Cochin|DEL → AMD → BOM →...|   16:40|19:15 04 Mar| 26h 35m|    2 stops|             No info|14011|\n",
            "|         SpiceJet|     15/04/2019|   Delhi|     Cochin|     DEL → PNQ → COK|   08:45|       13:15|  4h 30m|     1 stop|             No info| 5830|\n",
            "|      Jet Airways|     12/06/2019|   Delhi|     Cochin|     DEL → BOM → COK|   14:00|12:35 13 Jun| 22h 35m|     1 stop|In-flight meal no...|10262|\n",
            "|        Air India|     12/06/2019|   Delhi|     Cochin|DEL → CCU → BOM →...|   20:15|19:15 13 Jun|     23h|    2 stops|             No info|13381|\n",
            "|      Jet Airways|     27/05/2019|   Delhi|     Cochin|     DEL → BOM → COK|   16:00|12:35 28 May| 20h 35m|     1 stop|In-flight meal no...|12898|\n",
            "+-----------------+---------------+--------+-----------+--------------------+--------+------------+--------+-----------+--------------------+-----+\n",
            "only showing top 20 rows\n",
            "\n"
          ]
        }
      ]
    },
    {
      "cell_type": "code",
      "source": [
        "read_file = pd.read_excel (\"Test_set.xlsx\") \n",
        "\n",
        "read_file.to_csv (\"Test_set.csv\", index = None, header=True) \n",
        "\n",
        "test_df = spark.read.csv(\"Test_set.csv\", inferSchema = True, header = True)\n",
        "test_df.show()"
      ],
      "metadata": {
        "colab": {
          "base_uri": "https://localhost:8080/"
        },
        "id": "HyA07B8Pvlv2",
        "outputId": "d437ad94-88c2-4ce4-8f2e-0d09606da3b3"
      },
      "execution_count": null,
      "outputs": [
        {
          "output_type": "stream",
          "name": "stdout",
          "text": [
            "+-----------------+---------------+--------+-----------+--------------------+--------+------------+--------+-----------+--------------------+\n",
            "|          Airline|Date_of_Journey|  Source|Destination|               Route|Dep_Time|Arrival_Time|Duration|Total_Stops|     Additional_Info|\n",
            "+-----------------+---------------+--------+-----------+--------------------+--------+------------+--------+-----------+--------------------+\n",
            "|      Jet Airways|      6/06/2019|   Delhi|     Cochin|     DEL → BOM → COK|   17:30|04:25 07 Jun| 10h 55m|     1 stop|             No info|\n",
            "|           IndiGo|     12/05/2019| Kolkata|   Banglore|     CCU → MAA → BLR|   06:20|       10:20|      4h|     1 stop|             No info|\n",
            "|      Jet Airways|     21/05/2019|   Delhi|     Cochin|     DEL → BOM → COK|   19:15|19:00 22 May| 23h 45m|     1 stop|In-flight meal no...|\n",
            "|Multiple carriers|     21/05/2019|   Delhi|     Cochin|     DEL → BOM → COK|   08:00|       21:00|     13h|     1 stop|             No info|\n",
            "|         Air Asia|     24/06/2019|Banglore|      Delhi|           BLR → DEL|   23:55|02:45 25 Jun|  2h 50m|   non-stop|             No info|\n",
            "|      Jet Airways|     12/06/2019|   Delhi|     Cochin|     DEL → BOM → COK|   18:15|12:35 13 Jun| 18h 20m|     1 stop|In-flight meal no...|\n",
            "|        Air India|     12/03/2019|Banglore|  New Delhi|     BLR → TRV → DEL|   07:30|       22:35|  15h 5m|     1 stop|             No info|\n",
            "|           IndiGo|      1/05/2019| Kolkata|   Banglore|     CCU → HYD → BLR|   15:15|       20:30|  5h 15m|     1 stop|             No info|\n",
            "|           IndiGo|     15/03/2019| Kolkata|   Banglore|           CCU → BLR|   10:10|       12:55|  2h 45m|   non-stop|             No info|\n",
            "|      Jet Airways|     18/05/2019| Kolkata|   Banglore|     CCU → BOM → BLR|   16:30|       22:35|   6h 5m|     1 stop|             No info|\n",
            "|      Jet Airways|     21/03/2019|   Delhi|     Cochin|DEL → MAA → BOM →...|   13:55|18:50 22 Mar| 28h 55m|    2 stops|In-flight meal no...|\n",
            "|           IndiGo|     15/06/2019|   Delhi|     Cochin|     DEL → HYD → COK|   06:50|       16:10|  9h 20m|     1 stop|             No info|\n",
            "|Multiple carriers|     15/05/2019|   Delhi|     Cochin|     DEL → BOM → COK|   09:00|       19:15| 10h 15m|     1 stop|             No info|\n",
            "|      Jet Airways|     12/03/2019|Banglore|  New Delhi|     BLR → BOM → DEL|   05:45|       10:25|  4h 40m|     1 stop|             No info|\n",
            "|      Jet Airways|      3/06/2019|   Delhi|     Cochin|     DEL → BOM → COK|   19:15|12:35 04 Jun| 17h 20m|     1 stop|In-flight meal no...|\n",
            "|      Jet Airways|     06/03/2019|Banglore|  New Delhi|     BLR → BOM → DEL|   21:25|08:15 07 Mar| 10h 50m|     1 stop|             No info|\n",
            "|Multiple carriers|      6/06/2019|   Delhi|     Cochin|     DEL → HYD → COK|   13:15|       22:30|  9h 15m|     1 stop|             No info|\n",
            "|          Vistara|     24/03/2019| Kolkata|   Banglore|     CCU → DEL → BLR|   09:55|       22:10| 12h 15m|     1 stop|             No info|\n",
            "|      Jet Airways|     12/06/2019|   Delhi|     Cochin|     DEL → BOM → COK|   19:15|04:25 13 Jun|  9h 10m|     1 stop|In-flight meal no...|\n",
            "|      Jet Airways|     12/03/2019|Banglore|  New Delhi|     BLR → BOM → DEL|   22:55|08:15 13 Mar|  9h 20m|     1 stop|             No info|\n",
            "+-----------------+---------------+--------+-----------+--------------------+--------+------------+--------+-----------+--------------------+\n",
            "only showing top 20 rows\n",
            "\n"
          ]
        }
      ]
    },
    {
      "cell_type": "code",
      "source": [
        "train_df.printSchema()"
      ],
      "metadata": {
        "colab": {
          "base_uri": "https://localhost:8080/"
        },
        "id": "ObqcD4BEvpro",
        "outputId": "fee6b802-c77a-462e-9ecc-7145450f070a"
      },
      "execution_count": null,
      "outputs": [
        {
          "output_type": "stream",
          "name": "stdout",
          "text": [
            "root\n",
            " |-- Airline: string (nullable = true)\n",
            " |-- Date_of_Journey: string (nullable = true)\n",
            " |-- Source: string (nullable = true)\n",
            " |-- Destination: string (nullable = true)\n",
            " |-- Route: string (nullable = true)\n",
            " |-- Dep_Time: string (nullable = true)\n",
            " |-- Arrival_Time: string (nullable = true)\n",
            " |-- Duration: string (nullable = true)\n",
            " |-- Total_Stops: string (nullable = true)\n",
            " |-- Additional_Info: string (nullable = true)\n",
            " |-- Price: integer (nullable = true)\n",
            "\n"
          ]
        }
      ]
    },
    {
      "cell_type": "code",
      "source": [
        "test_df.printSchema()"
      ],
      "metadata": {
        "colab": {
          "base_uri": "https://localhost:8080/"
        },
        "id": "FmvvF4YMvrqu",
        "outputId": "fa992862-986e-43d7-822a-18fc61324aaa"
      },
      "execution_count": null,
      "outputs": [
        {
          "output_type": "stream",
          "name": "stdout",
          "text": [
            "root\n",
            " |-- Airline: string (nullable = true)\n",
            " |-- Date_of_Journey: string (nullable = true)\n",
            " |-- Source: string (nullable = true)\n",
            " |-- Destination: string (nullable = true)\n",
            " |-- Route: string (nullable = true)\n",
            " |-- Dep_Time: string (nullable = true)\n",
            " |-- Arrival_Time: string (nullable = true)\n",
            " |-- Duration: string (nullable = true)\n",
            " |-- Total_Stops: string (nullable = true)\n",
            " |-- Additional_Info: string (nullable = true)\n",
            "\n"
          ]
        }
      ]
    },
    {
      "cell_type": "code",
      "source": [
        "null_values = train_df.agg(*[f.count(f.when(f.isnull(col), col)).alias(col) for col in train_df.columns])\n",
        "null_values.show()"
      ],
      "metadata": {
        "colab": {
          "base_uri": "https://localhost:8080/"
        },
        "id": "68BKZch0vt2U",
        "outputId": "304094ec-a53f-4941-9eac-20b747f10b95"
      },
      "execution_count": null,
      "outputs": [
        {
          "output_type": "stream",
          "name": "stdout",
          "text": [
            "+-------+---------------+------+-----------+-----+--------+------------+--------+-----------+---------------+-----+\n",
            "|Airline|Date_of_Journey|Source|Destination|Route|Dep_Time|Arrival_Time|Duration|Total_Stops|Additional_Info|Price|\n",
            "+-------+---------------+------+-----------+-----+--------+------------+--------+-----------+---------------+-----+\n",
            "|      0|              0|     0|          0|    1|       0|           0|       0|          1|              0|    0|\n",
            "+-------+---------------+------+-----------+-----+--------+------------+--------+-----------+---------------+-----+\n",
            "\n"
          ]
        }
      ]
    },
    {
      "cell_type": "code",
      "source": [
        "train_df = train_df.fillna({ 'Route':0, 'Total_Stops':0 })"
      ],
      "metadata": {
        "id": "2kEEF_jVvv7Y"
      },
      "execution_count": null,
      "outputs": []
    },
    {
      "cell_type": "code",
      "source": [
        "null_valuesfinal = train_df.agg(*[f.count(f.when(f.isnull(col), col)).alias(col) for col in train_df.columns])\n",
        "null_valuesfinal.show()"
      ],
      "metadata": {
        "colab": {
          "base_uri": "https://localhost:8080/"
        },
        "id": "7wWVYYHWvzNQ",
        "outputId": "bb535a88-cb2e-4b68-9ed9-56d2d9722a67"
      },
      "execution_count": null,
      "outputs": [
        {
          "output_type": "stream",
          "name": "stdout",
          "text": [
            "+-------+---------------+------+-----------+-----+--------+------------+--------+-----------+---------------+-----+\n",
            "|Airline|Date_of_Journey|Source|Destination|Route|Dep_Time|Arrival_Time|Duration|Total_Stops|Additional_Info|Price|\n",
            "+-------+---------------+------+-----------+-----+--------+------------+--------+-----------+---------------+-----+\n",
            "|      0|              0|     0|          0|    0|       0|           0|       0|          0|              0|    0|\n",
            "+-------+---------------+------+-----------+-----+--------+------------+--------+-----------+---------------+-----+\n",
            "\n"
          ]
        }
      ]
    },
    {
      "cell_type": "code",
      "source": [
        "#null_values_test = test_df.agg(*[f.count(f.when(f.isnull(col), col)).alias(col) for col in test_df.columns])\n",
        "#null_values_test.show()"
      ],
      "metadata": {
        "id": "Sa8jU2Sbv1eB"
      },
      "execution_count": null,
      "outputs": []
    },
    {
      "cell_type": "code",
      "source": [
        "train_df.dtypes"
      ],
      "metadata": {
        "colab": {
          "base_uri": "https://localhost:8080/"
        },
        "id": "xNsqaGKAv3QV",
        "outputId": "5087d6b2-12c9-441d-c265-e785369b2eea"
      },
      "execution_count": null,
      "outputs": [
        {
          "output_type": "execute_result",
          "data": {
            "text/plain": [
              "[('Airline', 'string'),\n",
              " ('Date_of_Journey', 'string'),\n",
              " ('Source', 'string'),\n",
              " ('Destination', 'string'),\n",
              " ('Route', 'string'),\n",
              " ('Dep_Time', 'string'),\n",
              " ('Arrival_Time', 'string'),\n",
              " ('Duration', 'string'),\n",
              " ('Total_Stops', 'string'),\n",
              " ('Additional_Info', 'string'),\n",
              " ('Price', 'int')]"
            ]
          },
          "metadata": {},
          "execution_count": 16
        }
      ]
    },
    {
      "cell_type": "code",
      "source": [
        "categoricalColumns = [item[0] for item in train_df.dtypes if item[1].startswith('string')]\n",
        "categoricalColumns"
      ],
      "metadata": {
        "colab": {
          "base_uri": "https://localhost:8080/"
        },
        "id": "gtt-2is7v5N0",
        "outputId": "ffbc5264-8366-4517-d9b5-dd568c53423e"
      },
      "execution_count": null,
      "outputs": [
        {
          "output_type": "execute_result",
          "data": {
            "text/plain": [
              "['Airline',\n",
              " 'Date_of_Journey',\n",
              " 'Source',\n",
              " 'Destination',\n",
              " 'Route',\n",
              " 'Dep_Time',\n",
              " 'Arrival_Time',\n",
              " 'Duration',\n",
              " 'Total_Stops',\n",
              " 'Additional_Info']"
            ]
          },
          "metadata": {},
          "execution_count": 17
        }
      ]
    },
    {
      "cell_type": "code",
      "source": [
        "numericalColumns = [item[0] for item in train_df.dtypes if item[1].startswith('int')]\n",
        "numericalColumns"
      ],
      "metadata": {
        "colab": {
          "base_uri": "https://localhost:8080/"
        },
        "id": "iCcK0uk3v6bf",
        "outputId": "6c7f4390-6eb3-497a-debf-cf3936556935"
      },
      "execution_count": null,
      "outputs": [
        {
          "output_type": "execute_result",
          "data": {
            "text/plain": [
              "['Price']"
            ]
          },
          "metadata": {},
          "execution_count": 18
        }
      ]
    },
    {
      "cell_type": "code",
      "source": [
        "stages = []\n",
        "for cols in categoricalColumns:\n",
        "  stringIndexer = StringIndexer(inputCol= cols, outputCol = cols + '_Index')\n",
        "  encoder = OneHotEncoder(inputCols = [stringIndexer.getOutputCol()], outputCols= [cols + \"OHE\"])\n",
        "  stages += [stringIndexer, encoder]\n",
        "\n",
        "assembly = [c + \"OHE\" for c in categoricalColumns] + numericalColumns\n",
        "assembler = VectorAssembler(inputCols = assembly, outputCol = \"features\")\n",
        "stages += [assembler]"
      ],
      "metadata": {
        "id": "E1zYDiLiv9ka"
      },
      "execution_count": null,
      "outputs": []
    },
    {
      "cell_type": "code",
      "source": [
        "from pyspark.ml import Pipeline\n",
        "\n",
        "pipeline = Pipeline(stages = stages)\n",
        "pipelineModel = pipeline.fit(train_df)\n",
        "train_df = pipelineModel.transform(train_df)\n",
        "selectedCols = ['Price', 'features'] + categoricalColumns\n",
        "train_df = train_df.select(selectedCols)\n",
        "train_df.printSchema()"
      ],
      "metadata": {
        "colab": {
          "base_uri": "https://localhost:8080/"
        },
        "id": "2X0Dg0nQv_ch",
        "outputId": "501a1943-f4a7-4de6-c839-9319f194901f"
      },
      "execution_count": null,
      "outputs": [
        {
          "output_type": "stream",
          "name": "stdout",
          "text": [
            "root\n",
            " |-- Price: integer (nullable = true)\n",
            " |-- features: vector (nullable = true)\n",
            " |-- Airline: string (nullable = true)\n",
            " |-- Date_of_Journey: string (nullable = true)\n",
            " |-- Source: string (nullable = true)\n",
            " |-- Destination: string (nullable = true)\n",
            " |-- Route: string (nullable = false)\n",
            " |-- Dep_Time: string (nullable = true)\n",
            " |-- Arrival_Time: string (nullable = true)\n",
            " |-- Duration: string (nullable = true)\n",
            " |-- Total_Stops: string (nullable = false)\n",
            " |-- Additional_Info: string (nullable = true)\n",
            "\n"
          ]
        }
      ]
    },
    {
      "cell_type": "code",
      "source": [
        "categoricalColumns_test = [item[0] for item in test_df.dtypes if item[1].startswith('string')]\n",
        "categoricalColumns_test"
      ],
      "metadata": {
        "colab": {
          "base_uri": "https://localhost:8080/"
        },
        "id": "mwU-GZ2zwKQ2",
        "outputId": "e9d3960b-520a-433c-d656-9461e3c63560"
      },
      "execution_count": null,
      "outputs": [
        {
          "output_type": "execute_result",
          "data": {
            "text/plain": [
              "['Airline',\n",
              " 'Date_of_Journey',\n",
              " 'Source',\n",
              " 'Destination',\n",
              " 'Route',\n",
              " 'Dep_Time',\n",
              " 'Arrival_Time',\n",
              " 'Duration',\n",
              " 'Total_Stops',\n",
              " 'Additional_Info']"
            ]
          },
          "metadata": {},
          "execution_count": 21
        }
      ]
    },
    {
      "cell_type": "code",
      "source": [
        "indexer_test = StringIndexer(inputCols= ['Airline',\n",
        "                                        'Date_of_Journey',\n",
        "                                        'Source',\n",
        "                                        'Destination',\n",
        "                                        'Route',\n",
        "                                        'Dep_Time',\n",
        "                                        'Arrival_Time',\n",
        "                                        'Duration',\n",
        "                                        'Total_Stops',\n",
        "                                        'Additional_Info'], \n",
        "                        outputCols=['Airline_index',\n",
        "                                    'Date_of_Journey_index',\n",
        "                                    'Source_index',\n",
        "                                    'Destination_index',\n",
        "                                    'Route_index',\n",
        "                                    'Dep_Time_index',\n",
        "                                    'Arrival_Time_index',\n",
        "                                    'Duration_index',\n",
        "                                    'Total_Stops_index',\n",
        "                                    'Additional_Info_index']) \n",
        "\n",
        "indexed = indexer_test.fit(test_df).transform(test_df) \n",
        "indexed.show()"
      ],
      "metadata": {
        "colab": {
          "base_uri": "https://localhost:8080/"
        },
        "id": "GfabvG5wwNmF",
        "outputId": "b61712b7-da8d-495e-ff1a-c86c05ad5378"
      },
      "execution_count": null,
      "outputs": [
        {
          "output_type": "stream",
          "name": "stdout",
          "text": [
            "+-----------------+---------------+--------+-----------+--------------------+--------+------------+--------+-----------+--------------------+-------------+---------------------+------------+-----------------+-----------+--------------+------------------+--------------+-----------------+---------------------+\n",
            "|          Airline|Date_of_Journey|  Source|Destination|               Route|Dep_Time|Arrival_Time|Duration|Total_Stops|     Additional_Info|Airline_index|Date_of_Journey_index|Source_index|Destination_index|Route_index|Dep_Time_index|Arrival_Time_index|Duration_index|Total_Stops_index|Additional_Info_index|\n",
            "+-----------------+---------------+--------+-----------+--------------------+--------+------------+--------+-----------+--------------------+-------------+---------------------+------------+-----------------+-----------+--------------+------------------+--------------+-----------------+---------------------+\n",
            "|      Jet Airways|      6/06/2019|   Delhi|     Cochin|     DEL → BOM → COK|   17:30|04:25 07 Jun| 10h 55m|     1 stop|             No info|          0.0|                  3.0|         0.0|              0.0|        0.0|          48.0|              32.0|         167.0|              0.0|                  0.0|\n",
            "|           IndiGo|     12/05/2019| Kolkata|   Banglore|     CCU → MAA → BLR|   06:20|       10:20|      4h|     1 stop|             No info|          1.0|                 18.0|         1.0|              1.0|       19.0|          69.0|             204.0|         222.0|              0.0|                  0.0|\n",
            "|      Jet Airways|     21/05/2019|   Delhi|     Cochin|     DEL → BOM → COK|   19:15|19:00 22 May| 23h 45m|     1 stop|In-flight meal no...|          0.0|                  5.0|         0.0|              0.0|        0.0|          74.0|             137.0|         132.0|              0.0|                  1.0|\n",
            "|Multiple carriers|     21/05/2019|   Delhi|     Cochin|     DEL → BOM → COK|   08:00|       21:00|     13h|     1 stop|             No info|          3.0|                  5.0|         0.0|              0.0|        0.0|           6.0|               1.0|          23.0|              0.0|                  0.0|\n",
            "|         Air Asia|     24/06/2019|Banglore|      Delhi|           BLR → DEL|   23:55|02:45 25 Jun|  2h 50m|   non-stop|             No info|          6.0|                 12.0|         2.0|              2.0|        1.0|         139.0|             444.0|           0.0|              1.0|                  0.0|\n",
            "|      Jet Airways|     12/06/2019|   Delhi|     Cochin|     DEL → BOM → COK|   18:15|12:35 13 Jun| 18h 20m|     1 stop|In-flight meal no...|          0.0|                  1.0|         0.0|              0.0|        0.0|          52.0|             113.0|          54.0|              0.0|                  1.0|\n",
            "|        Air India|     12/03/2019|Banglore|  New Delhi|     BLR → TRV → DEL|   07:30|       22:35|  15h 5m|     1 stop|             No info|          2.0|                 24.0|         2.0|              3.0|       64.0|          32.0|              12.0|         151.0|              0.0|                  0.0|\n",
            "|           IndiGo|      1/05/2019| Kolkata|   Banglore|     CCU → HYD → BLR|   15:15|       20:30|  5h 15m|     1 stop|             No info|          1.0|                 21.0|         1.0|              1.0|       14.0|          10.0|              40.0|          11.0|              0.0|                  0.0|\n",
            "|           IndiGo|     15/03/2019| Kolkata|   Banglore|           CCU → BLR|   10:10|       12:55|  2h 45m|   non-stop|             No info|          1.0|                 27.0|         1.0|              1.0|        3.0|         100.0|              23.0|           2.0|              1.0|                  0.0|\n",
            "|      Jet Airways|     18/05/2019| Kolkata|   Banglore|     CCU → BOM → BLR|   16:30|       22:35|   6h 5m|     1 stop|             No info|          0.0|                  2.0|         1.0|              1.0|        2.0|          22.0|              12.0|          85.0|              0.0|                  0.0|\n",
            "|      Jet Airways|     21/03/2019|   Delhi|     Cochin|DEL → MAA → BOM →...|   13:55|18:50 22 Mar| 28h 55m|    2 stops|In-flight meal no...|          0.0|                  9.0|         0.0|              0.0|       39.0|          65.0|              83.0|         295.0|              2.0|                  1.0|\n",
            "|           IndiGo|     15/06/2019|   Delhi|     Cochin|     DEL → HYD → COK|   06:50|       16:10|  9h 20m|     1 stop|             No info|          1.0|                  7.0|         0.0|              0.0|        7.0|          38.0|               4.0|          16.0|              0.0|                  0.0|\n",
            "|Multiple carriers|     15/05/2019|   Delhi|     Cochin|     DEL → BOM → COK|   09:00|       19:15| 10h 15m|     1 stop|             No info|          3.0|                  6.0|         0.0|              0.0|        0.0|           5.0|               2.0|          14.0|              0.0|                  0.0|\n",
            "|      Jet Airways|     12/03/2019|Banglore|  New Delhi|     BLR → BOM → DEL|   05:45|       10:25|  4h 40m|     1 stop|             No info|          0.0|                 24.0|         2.0|              3.0|        6.0|          26.0|             547.0|         164.0|              0.0|                  0.0|\n",
            "|      Jet Airways|      3/06/2019|   Delhi|     Cochin|     DEL → BOM → COK|   19:15|12:35 04 Jun| 17h 20m|     1 stop|In-flight meal no...|          0.0|                 10.0|         0.0|              0.0|        0.0|          74.0|              94.0|         243.0|              0.0|                  1.0|\n",
            "|      Jet Airways|     06/03/2019|Banglore|  New Delhi|     BLR → BOM → DEL|   21:25|08:15 07 Mar| 10h 50m|     1 stop|             No info|          0.0|                 28.0|         2.0|              3.0|        6.0|          27.0|             184.0|         119.0|              0.0|                  0.0|\n",
            "|Multiple carriers|      6/06/2019|   Delhi|     Cochin|     DEL → HYD → COK|   13:15|       22:30|  9h 15m|     1 stop|             No info|          3.0|                  3.0|         0.0|              0.0|        7.0|          51.0|               8.0|          87.0|              0.0|                  0.0|\n",
            "|          Vistara|     24/03/2019| Kolkata|   Banglore|     CCU → DEL → BLR|   09:55|       22:10| 12h 15m|     1 stop|             No info|          5.0|                 14.0|         1.0|              1.0|        5.0|         109.0|             167.0|          51.0|              0.0|                  0.0|\n",
            "|      Jet Airways|     12/06/2019|   Delhi|     Cochin|     DEL → BOM → COK|   19:15|04:25 13 Jun|  9h 10m|     1 stop|In-flight meal no...|          0.0|                  1.0|         0.0|              0.0|        0.0|          74.0|              45.0|         166.0|              0.0|                  1.0|\n",
            "|      Jet Airways|     12/03/2019|Banglore|  New Delhi|     BLR → BOM → DEL|   22:55|08:15 13 Mar|  9h 20m|     1 stop|             No info|          0.0|                 24.0|         2.0|              3.0|        6.0|         104.0|             267.0|          16.0|              0.0|                  0.0|\n",
            "+-----------------+---------------+--------+-----------+--------------------+--------+------------+--------+-----------+--------------------+-------------+---------------------+------------+-----------------+-----------+--------------+------------------+--------------+-----------------+---------------------+\n",
            "only showing top 20 rows\n",
            "\n"
          ]
        }
      ]
    },
    {
      "cell_type": "code",
      "source": [
        "new_test_df = indexed.drop(*['Airline',\n",
        "                             'Date_of_Journey',\n",
        "                              'Source',\n",
        "                              'Destination',\n",
        "                              'Route',\n",
        "                              'Dep_Time',\n",
        "                              'Arrival_Time',\n",
        "                              'Duration',\n",
        "                              'Total_Stops',\n",
        "                              'Additional_Info'])"
      ],
      "metadata": {
        "id": "dnXF3LGuwQnk"
      },
      "execution_count": null,
      "outputs": []
    },
    {
      "cell_type": "code",
      "source": [
        "new_test_df.show()\n"
      ],
      "metadata": {
        "colab": {
          "base_uri": "https://localhost:8080/"
        },
        "id": "igAx8gHewSlC",
        "outputId": "1e59297a-e0b4-40d8-b393-abfba9ee208b"
      },
      "execution_count": null,
      "outputs": [
        {
          "output_type": "stream",
          "name": "stdout",
          "text": [
            "+-------------+---------------------+------------+-----------------+-----------+--------------+------------------+--------------+-----------------+---------------------+\n",
            "|Airline_index|Date_of_Journey_index|Source_index|Destination_index|Route_index|Dep_Time_index|Arrival_Time_index|Duration_index|Total_Stops_index|Additional_Info_index|\n",
            "+-------------+---------------------+------------+-----------------+-----------+--------------+------------------+--------------+-----------------+---------------------+\n",
            "|          0.0|                  3.0|         0.0|              0.0|        0.0|          48.0|              32.0|         167.0|              0.0|                  0.0|\n",
            "|          1.0|                 18.0|         1.0|              1.0|       19.0|          69.0|             204.0|         222.0|              0.0|                  0.0|\n",
            "|          0.0|                  5.0|         0.0|              0.0|        0.0|          74.0|             137.0|         132.0|              0.0|                  1.0|\n",
            "|          3.0|                  5.0|         0.0|              0.0|        0.0|           6.0|               1.0|          23.0|              0.0|                  0.0|\n",
            "|          6.0|                 12.0|         2.0|              2.0|        1.0|         139.0|             444.0|           0.0|              1.0|                  0.0|\n",
            "|          0.0|                  1.0|         0.0|              0.0|        0.0|          52.0|             113.0|          54.0|              0.0|                  1.0|\n",
            "|          2.0|                 24.0|         2.0|              3.0|       64.0|          32.0|              12.0|         151.0|              0.0|                  0.0|\n",
            "|          1.0|                 21.0|         1.0|              1.0|       14.0|          10.0|              40.0|          11.0|              0.0|                  0.0|\n",
            "|          1.0|                 27.0|         1.0|              1.0|        3.0|         100.0|              23.0|           2.0|              1.0|                  0.0|\n",
            "|          0.0|                  2.0|         1.0|              1.0|        2.0|          22.0|              12.0|          85.0|              0.0|                  0.0|\n",
            "|          0.0|                  9.0|         0.0|              0.0|       39.0|          65.0|              83.0|         295.0|              2.0|                  1.0|\n",
            "|          1.0|                  7.0|         0.0|              0.0|        7.0|          38.0|               4.0|          16.0|              0.0|                  0.0|\n",
            "|          3.0|                  6.0|         0.0|              0.0|        0.0|           5.0|               2.0|          14.0|              0.0|                  0.0|\n",
            "|          0.0|                 24.0|         2.0|              3.0|        6.0|          26.0|             547.0|         164.0|              0.0|                  0.0|\n",
            "|          0.0|                 10.0|         0.0|              0.0|        0.0|          74.0|              94.0|         243.0|              0.0|                  1.0|\n",
            "|          0.0|                 28.0|         2.0|              3.0|        6.0|          27.0|             184.0|         119.0|              0.0|                  0.0|\n",
            "|          3.0|                  3.0|         0.0|              0.0|        7.0|          51.0|               8.0|          87.0|              0.0|                  0.0|\n",
            "|          5.0|                 14.0|         1.0|              1.0|        5.0|         109.0|             167.0|          51.0|              0.0|                  0.0|\n",
            "|          0.0|                  1.0|         0.0|              0.0|        0.0|          74.0|              45.0|         166.0|              0.0|                  1.0|\n",
            "|          0.0|                 24.0|         2.0|              3.0|        6.0|         104.0|             267.0|          16.0|              0.0|                  0.0|\n",
            "+-------------+---------------------+------------+-----------------+-----------+--------------+------------------+--------------+-----------------+---------------------+\n",
            "only showing top 20 rows\n",
            "\n"
          ]
        }
      ]
    },
    {
      "cell_type": "code",
      "source": [
        "assembler = VectorAssembler(\n",
        "    inputCols=[x for x in new_test_df.columns],\n",
        "    outputCol='features')\n",
        "\n",
        "output_test_df = assembler.transform(new_test_df)\n",
        "output_test_df.show()"
      ],
      "metadata": {
        "colab": {
          "base_uri": "https://localhost:8080/"
        },
        "id": "oxUh05c8wWfT",
        "outputId": "9bd512e0-9de0-4c9a-c1e5-3b5635708532"
      },
      "execution_count": null,
      "outputs": [
        {
          "output_type": "stream",
          "name": "stdout",
          "text": [
            "+-------------+---------------------+------------+-----------------+-----------+--------------+------------------+--------------+-----------------+---------------------+--------------------+\n",
            "|Airline_index|Date_of_Journey_index|Source_index|Destination_index|Route_index|Dep_Time_index|Arrival_Time_index|Duration_index|Total_Stops_index|Additional_Info_index|            features|\n",
            "+-------------+---------------------+------------+-----------------+-----------+--------------+------------------+--------------+-----------------+---------------------+--------------------+\n",
            "|          0.0|                  3.0|         0.0|              0.0|        0.0|          48.0|              32.0|         167.0|              0.0|                  0.0|(10,[1,5,6,7],[3....|\n",
            "|          1.0|                 18.0|         1.0|              1.0|       19.0|          69.0|             204.0|         222.0|              0.0|                  0.0|[1.0,18.0,1.0,1.0...|\n",
            "|          0.0|                  5.0|         0.0|              0.0|        0.0|          74.0|             137.0|         132.0|              0.0|                  1.0|(10,[1,5,6,7,9],[...|\n",
            "|          3.0|                  5.0|         0.0|              0.0|        0.0|           6.0|               1.0|          23.0|              0.0|                  0.0|(10,[0,1,5,6,7],[...|\n",
            "|          6.0|                 12.0|         2.0|              2.0|        1.0|         139.0|             444.0|           0.0|              1.0|                  0.0|[6.0,12.0,2.0,2.0...|\n",
            "|          0.0|                  1.0|         0.0|              0.0|        0.0|          52.0|             113.0|          54.0|              0.0|                  1.0|(10,[1,5,6,7,9],[...|\n",
            "|          2.0|                 24.0|         2.0|              3.0|       64.0|          32.0|              12.0|         151.0|              0.0|                  0.0|[2.0,24.0,2.0,3.0...|\n",
            "|          1.0|                 21.0|         1.0|              1.0|       14.0|          10.0|              40.0|          11.0|              0.0|                  0.0|[1.0,21.0,1.0,1.0...|\n",
            "|          1.0|                 27.0|         1.0|              1.0|        3.0|         100.0|              23.0|           2.0|              1.0|                  0.0|[1.0,27.0,1.0,1.0...|\n",
            "|          0.0|                  2.0|         1.0|              1.0|        2.0|          22.0|              12.0|          85.0|              0.0|                  0.0|[0.0,2.0,1.0,1.0,...|\n",
            "|          0.0|                  9.0|         0.0|              0.0|       39.0|          65.0|              83.0|         295.0|              2.0|                  1.0|[0.0,9.0,0.0,0.0,...|\n",
            "|          1.0|                  7.0|         0.0|              0.0|        7.0|          38.0|               4.0|          16.0|              0.0|                  0.0|[1.0,7.0,0.0,0.0,...|\n",
            "|          3.0|                  6.0|         0.0|              0.0|        0.0|           5.0|               2.0|          14.0|              0.0|                  0.0|(10,[0,1,5,6,7],[...|\n",
            "|          0.0|                 24.0|         2.0|              3.0|        6.0|          26.0|             547.0|         164.0|              0.0|                  0.0|[0.0,24.0,2.0,3.0...|\n",
            "|          0.0|                 10.0|         0.0|              0.0|        0.0|          74.0|              94.0|         243.0|              0.0|                  1.0|(10,[1,5,6,7,9],[...|\n",
            "|          0.0|                 28.0|         2.0|              3.0|        6.0|          27.0|             184.0|         119.0|              0.0|                  0.0|[0.0,28.0,2.0,3.0...|\n",
            "|          3.0|                  3.0|         0.0|              0.0|        7.0|          51.0|               8.0|          87.0|              0.0|                  0.0|[3.0,3.0,0.0,0.0,...|\n",
            "|          5.0|                 14.0|         1.0|              1.0|        5.0|         109.0|             167.0|          51.0|              0.0|                  0.0|[5.0,14.0,1.0,1.0...|\n",
            "|          0.0|                  1.0|         0.0|              0.0|        0.0|          74.0|              45.0|         166.0|              0.0|                  1.0|(10,[1,5,6,7,9],[...|\n",
            "|          0.0|                 24.0|         2.0|              3.0|        6.0|         104.0|             267.0|          16.0|              0.0|                  0.0|[0.0,24.0,2.0,3.0...|\n",
            "+-------------+---------------------+------------+-----------------+-----------+--------------+------------------+--------------+-----------------+---------------------+--------------------+\n",
            "only showing top 20 rows\n",
            "\n"
          ]
        }
      ]
    },
    {
      "cell_type": "code",
      "source": [
        "finalized_test_data = output_test_df.select('features')\n",
        "finalized_test_data.show()"
      ],
      "metadata": {
        "colab": {
          "base_uri": "https://localhost:8080/"
        },
        "id": "JaawPyG9wY2V",
        "outputId": "11041a5a-f936-4513-d71c-fc5e0b25e65b"
      },
      "execution_count": null,
      "outputs": [
        {
          "output_type": "stream",
          "name": "stdout",
          "text": [
            "+--------------------+\n",
            "|            features|\n",
            "+--------------------+\n",
            "|(10,[1,5,6,7],[3....|\n",
            "|[1.0,18.0,1.0,1.0...|\n",
            "|(10,[1,5,6,7,9],[...|\n",
            "|(10,[0,1,5,6,7],[...|\n",
            "|[6.0,12.0,2.0,2.0...|\n",
            "|(10,[1,5,6,7,9],[...|\n",
            "|[2.0,24.0,2.0,3.0...|\n",
            "|[1.0,21.0,1.0,1.0...|\n",
            "|[1.0,27.0,1.0,1.0...|\n",
            "|[0.0,2.0,1.0,1.0,...|\n",
            "|[0.0,9.0,0.0,0.0,...|\n",
            "|[1.0,7.0,0.0,0.0,...|\n",
            "|(10,[0,1,5,6,7],[...|\n",
            "|[0.0,24.0,2.0,3.0...|\n",
            "|(10,[1,5,6,7,9],[...|\n",
            "|[0.0,28.0,2.0,3.0...|\n",
            "|[3.0,3.0,0.0,0.0,...|\n",
            "|[5.0,14.0,1.0,1.0...|\n",
            "|(10,[1,5,6,7,9],[...|\n",
            "|[0.0,24.0,2.0,3.0...|\n",
            "+--------------------+\n",
            "only showing top 20 rows\n",
            "\n"
          ]
        }
      ]
    },
    {
      "cell_type": "code",
      "source": [
        "train_df.show()"
      ],
      "metadata": {
        "colab": {
          "base_uri": "https://localhost:8080/"
        },
        "id": "xFZ7iGDuwbEx",
        "outputId": "50f6f69d-f965-4090-fe0f-74730f21d5fb"
      },
      "execution_count": null,
      "outputs": [
        {
          "output_type": "stream",
          "name": "stdout",
          "text": [
            "+-----+--------------------+-----------------+---------------+--------+-----------+--------------------+--------+------------+--------+-----------+--------------------+\n",
            "|Price|            features|          Airline|Date_of_Journey|  Source|Destination|               Route|Dep_Time|Arrival_Time|Duration|Total_Stops|     Additional_Info|\n",
            "+-----+--------------------+-----------------+---------------+--------+-----------+--------------------+--------+------------+--------+-----------+--------------------+\n",
            "| 3897|(2136,[1,25,56,61...|           IndiGo|     24/03/2019|Banglore|  New Delhi|           BLR → DEL|   22:20|01:10 22 Mar|  2h 50m|   non-stop|             No info|\n",
            "| 7662|(2136,[2,30,55,59...|        Air India|      1/05/2019| Kolkata|   Banglore|CCU → IXR → BBI →...|   05:50|       13:15|  7h 25m|    2 stops|             No info|\n",
            "|13882|(2136,[0,14,54,58...|      Jet Airways|      9/06/2019|   Delhi|     Cochin|DEL → LKO → BOM →...|   09:25|04:25 10 Jun|     19h|    2 stops|             No info|\n",
            "| 6218|(2136,[1,31,55,59...|           IndiGo|     12/05/2019| Kolkata|   Banglore|     CCU → NAG → BLR|   18:05|       23:30|  5h 25m|     1 stop|             No info|\n",
            "|13302|(2136,[1,37,56,61...|           IndiGo|     01/03/2019|Banglore|  New Delhi|     BLR → NAG → DEL|   16:50|       21:35|  4h 45m|     1 stop|             No info|\n",
            "| 3873|(2136,[4,21,55,59...|         SpiceJet|     24/06/2019| Kolkata|   Banglore|           CCU → BLR|   09:00|       11:25|  2h 25m|   non-stop|             No info|\n",
            "|11087|(2136,[0,38,56,61...|      Jet Airways|     12/03/2019|Banglore|  New Delhi|     BLR → BOM → DEL|   18:55|10:25 13 Mar| 15h 30m|     1 stop|In-flight meal no...|\n",
            "|22270|(2136,[0,37,56,61...|      Jet Airways|     01/03/2019|Banglore|  New Delhi|     BLR → BOM → DEL|   08:00|05:05 02 Mar|  21h 5m|     1 stop|             No info|\n",
            "|11087|(2136,[0,38,56,61...|      Jet Airways|     12/03/2019|Banglore|  New Delhi|     BLR → BOM → DEL|   08:55|10:25 13 Mar| 25h 30m|     1 stop|In-flight meal no...|\n",
            "| 8625|(2136,[3,19,54,58...|Multiple carriers|     27/05/2019|   Delhi|     Cochin|     DEL → BOM → COK|   11:25|       19:15|  7h 50m|     1 stop|             No info|\n",
            "| 8907|(2136,[2,22,54,58...|        Air India|      1/06/2019|   Delhi|     Cochin|     DEL → BLR → COK|   09:45|       23:00| 13h 15m|     1 stop|             No info|\n",
            "| 4174|(2136,[1,52,55,59...|           IndiGo|     18/04/2019| Kolkata|   Banglore|           CCU → BLR|   20:20|       22:55|  2h 35m|   non-stop|             No info|\n",
            "| 4667|(2136,[2,21,70,20...|        Air India|     24/06/2019| Chennai|    Kolkata|           MAA → CCU|   11:40|       13:55|  2h 15m|   non-stop|             No info|\n",
            "| 9663|(2136,[0,16,55,59...|      Jet Airways|      9/05/2019| Kolkata|   Banglore|     CCU → BOM → BLR|   21:10|09:20 10 May| 12h 10m|     1 stop|In-flight meal no...|\n",
            "| 4804|(2136,[1,48,55,59...|           IndiGo|     24/04/2019| Kolkata|   Banglore|           CCU → BLR|   17:15|       19:50|  2h 35m|   non-stop|             No info|\n",
            "|14011|(2136,[2,33,54,58...|        Air India|      3/03/2019|   Delhi|     Cochin|DEL → AMD → BOM →...|   16:40|19:15 04 Mar| 26h 35m|    2 stops|             No info|\n",
            "| 5830|(2136,[4,50,54,58...|         SpiceJet|     15/04/2019|   Delhi|     Cochin|     DEL → PNQ → COK|   08:45|       13:15|  4h 30m|     1 stop|             No info|\n",
            "|10262|(2136,[0,15,54,58...|      Jet Airways|     12/06/2019|   Delhi|     Cochin|     DEL → BOM → COK|   14:00|12:35 13 Jun| 22h 35m|     1 stop|In-flight meal no...|\n",
            "|13381|(2136,[2,15,54,58...|        Air India|     12/06/2019|   Delhi|     Cochin|DEL → CCU → BOM →...|   20:15|19:15 13 Jun|     23h|    2 stops|             No info|\n",
            "|12898|(2136,[0,19,54,58...|      Jet Airways|     27/05/2019|   Delhi|     Cochin|     DEL → BOM → COK|   16:00|12:35 28 May| 20h 35m|     1 stop|In-flight meal no...|\n",
            "+-----+--------------------+-----------------+---------------+--------+-----------+--------------------+--------+------------+--------+-----------+--------------------+\n",
            "only showing top 20 rows\n",
            "\n"
          ]
        }
      ]
    },
    {
      "cell_type": "code",
      "source": [
        "finalized_train_df = train_df.select(\"features\", \"Price\")\n",
        "finalized_train_df.show()"
      ],
      "metadata": {
        "colab": {
          "base_uri": "https://localhost:8080/"
        },
        "id": "Iu22u1BewdRk",
        "outputId": "4089e3ae-420e-46e1-ca4b-9a55c088b232"
      },
      "execution_count": null,
      "outputs": [
        {
          "output_type": "stream",
          "name": "stdout",
          "text": [
            "+--------------------+-----+\n",
            "|            features|Price|\n",
            "+--------------------+-----+\n",
            "|(2136,[1,25,56,61...| 3897|\n",
            "|(2136,[2,30,55,59...| 7662|\n",
            "|(2136,[0,14,54,58...|13882|\n",
            "|(2136,[1,31,55,59...| 6218|\n",
            "|(2136,[1,37,56,61...|13302|\n",
            "|(2136,[4,21,55,59...| 3873|\n",
            "|(2136,[0,38,56,61...|11087|\n",
            "|(2136,[0,37,56,61...|22270|\n",
            "|(2136,[0,38,56,61...|11087|\n",
            "|(2136,[3,19,54,58...| 8625|\n",
            "|(2136,[2,22,54,58...| 8907|\n",
            "|(2136,[1,52,55,59...| 4174|\n",
            "|(2136,[2,21,70,20...| 4667|\n",
            "|(2136,[0,16,55,59...| 9663|\n",
            "|(2136,[1,48,55,59...| 4804|\n",
            "|(2136,[2,33,54,58...|14011|\n",
            "|(2136,[4,50,54,58...| 5830|\n",
            "|(2136,[0,15,54,58...|10262|\n",
            "|(2136,[2,15,54,58...|13381|\n",
            "|(2136,[0,19,54,58...|12898|\n",
            "+--------------------+-----+\n",
            "only showing top 20 rows\n",
            "\n"
          ]
        }
      ]
    },
    {
      "cell_type": "code",
      "source": [
        "training_data, testing_data = finalized_train_df.randomSplit([0.7,0.3], seed = 2018)\n",
        "print(\"Training Dataset Count: \" + str(training_data.count()))\n",
        "print(\"Testing Dataset Count: \" + str(testing_data.count()))"
      ],
      "metadata": {
        "colab": {
          "base_uri": "https://localhost:8080/"
        },
        "id": "azJ6UOMjwfkw",
        "outputId": "8f264ade-65a7-42e6-fd0d-fe1f6b81c1e6"
      },
      "execution_count": null,
      "outputs": [
        {
          "output_type": "stream",
          "name": "stdout",
          "text": [
            "Training Dataset Count: 7526\n",
            "Testing Dataset Count: 3157\n"
          ]
        }
      ]
    },
    {
      "cell_type": "code",
      "source": [
        "from pyspark.ml.regression import RandomForestRegressor\n",
        "\n",
        "rfr = RandomForestRegressor(labelCol=\"Price\", featuresCol=\"features\")\n",
        "rfrModel = rfr.fit(training_data)\n",
        "predictions = rfrModel.transform(testing_data)\n",
        "predictions.select(\"features\", \"Price\", \"prediction\").show()"
      ],
      "metadata": {
        "colab": {
          "base_uri": "https://localhost:8080/"
        },
        "id": "NA9us8Iuw4lU",
        "outputId": "900eabf8-3a0b-464f-9c0b-2e0760bd8c1b"
      },
      "execution_count": null,
      "outputs": [
        {
          "output_type": "stream",
          "name": "stdout",
          "text": [
            "+--------------------+-----+------------------+\n",
            "|            features|Price|        prediction|\n",
            "+--------------------+-----+------------------+\n",
            "|(2136,[0,11,54,58...|15554|14145.009940815882|\n",
            "|(2136,[0,11,54,58...|15554|14145.009940815882|\n",
            "|(2136,[0,11,54,58...|12373|12163.860781511003|\n",
            "|(2136,[0,11,54,58...|12373|12163.860781511003|\n",
            "|(2136,[0,11,54,58...|12373|12163.860781511003|\n",
            "|(2136,[0,11,54,58...|12373|12163.860781511003|\n",
            "|(2136,[0,11,54,58...|15554|14145.009940815882|\n",
            "|(2136,[0,11,54,58...|12373|12163.860781511003|\n",
            "|(2136,[0,11,54,58...|12373|12163.860781511003|\n",
            "|(2136,[0,11,54,58...|12373|12163.860781511003|\n",
            "|(2136,[0,11,54,58...|12373|12163.860781511003|\n",
            "|(2136,[0,11,54,58...|12373|12163.860781511003|\n",
            "|(2136,[0,11,54,58...|12373|12163.860781511003|\n",
            "|(2136,[0,11,54,58...|12373|12163.860781511003|\n",
            "|(2136,[0,11,54,58...|12373|12163.860781511003|\n",
            "|(2136,[0,11,54,58...|13029|12457.514310128621|\n",
            "|(2136,[0,11,54,58...|15129| 14218.73821841483|\n",
            "|(2136,[0,11,54,58...|15129| 14218.73821841483|\n",
            "|(2136,[0,11,54,58...|15129| 14218.73821841483|\n",
            "|(2136,[0,11,54,58...|10368|11106.548180186777|\n",
            "+--------------------+-----+------------------+\n",
            "only showing top 20 rows\n",
            "\n"
          ]
        }
      ]
    },
    {
      "cell_type": "code",
      "source": [
        "from pyspark.ml.evaluation import RegressionEvaluator\n",
        "\n",
        "evaluator = RegressionEvaluator(labelCol=\"Price\", predictionCol=\"prediction\", metricName=\"rmse\")\n",
        "rmse = evaluator.evaluate(predictions)\n",
        "print(\"Root Mean Squared Error (RMSE) on test data = %g\" % rmse)"
      ],
      "metadata": {
        "colab": {
          "base_uri": "https://localhost:8080/"
        },
        "id": "2hAMjIQYw_tx",
        "outputId": "01700f20-aceb-4d6a-85d0-dafcb8af022e"
      },
      "execution_count": null,
      "outputs": [
        {
          "output_type": "stream",
          "name": "stdout",
          "text": [
            "Root Mean Squared Error (RMSE) on test data = 1198.14\n"
          ]
        }
      ]
    },
    {
      "cell_type": "code",
      "source": [
        "from pyspark.ml.regression import GBTRegressor\n",
        "\n",
        "gbt = GBTRegressor(featuresCol=\"features\",labelCol=\"Price\", maxIter=10)\n",
        "gbtModel = gbt.fit(training_data)\n",
        "predictions_gbt = gbtModel.transform(testing_data)\n",
        "\n",
        "predictions_gbt.select(\"features\", \"Price\", \"prediction\").show()"
      ],
      "metadata": {
        "colab": {
          "base_uri": "https://localhost:8080/"
        },
        "id": "j5XbieVMxDe2",
        "outputId": "4a3f9c10-d63e-44cc-c03c-edd7427d386f"
      },
      "execution_count": null,
      "outputs": [
        {
          "output_type": "stream",
          "name": "stdout",
          "text": [
            "+--------------------+-----+------------------+\n",
            "|            features|Price|        prediction|\n",
            "+--------------------+-----+------------------+\n",
            "|(2136,[0,11,54,58...|15554|15860.540874969634|\n",
            "|(2136,[0,11,54,58...|15554|15860.540874969634|\n",
            "|(2136,[0,11,54,58...|12373|12136.887067455067|\n",
            "|(2136,[0,11,54,58...|12373|12136.887067455067|\n",
            "|(2136,[0,11,54,58...|12373|12136.887067455067|\n",
            "|(2136,[0,11,54,58...|12373|12136.887067455067|\n",
            "|(2136,[0,11,54,58...|15554|15860.540874969634|\n",
            "|(2136,[0,11,54,58...|12373|12136.887067455067|\n",
            "|(2136,[0,11,54,58...|12373|12136.887067455067|\n",
            "|(2136,[0,11,54,58...|12373|12136.887067455067|\n",
            "|(2136,[0,11,54,58...|12373|12136.887067455067|\n",
            "|(2136,[0,11,54,58...|12373|12136.887067455067|\n",
            "|(2136,[0,11,54,58...|12373|12136.887067455067|\n",
            "|(2136,[0,11,54,58...|12373|12136.887067455067|\n",
            "|(2136,[0,11,54,58...|12373|12136.887067455067|\n",
            "|(2136,[0,11,54,58...|13029|12851.156908724908|\n",
            "|(2136,[0,11,54,58...|15129|14734.428095165586|\n",
            "|(2136,[0,11,54,58...|15129|14734.428095165586|\n",
            "|(2136,[0,11,54,58...|15129|14734.428095165586|\n",
            "|(2136,[0,11,54,58...|10368|10746.414904460516|\n",
            "+--------------------+-----+------------------+\n",
            "only showing top 20 rows\n",
            "\n"
          ]
        }
      ]
    },
    {
      "cell_type": "code",
      "source": [
        "evaluator = RegressionEvaluator(labelCol=\"Price\", predictionCol=\"prediction\", metricName=\"rmse\")\n",
        "rmse = evaluator.evaluate(predictions_gbt)\n",
        "print(\"Root Mean Squared Error (RMSE) on test data = %g\" % rmse)"
      ],
      "metadata": {
        "colab": {
          "base_uri": "https://localhost:8080/"
        },
        "id": "ex1trOaHxK75",
        "outputId": "de0e59c9-c933-4acb-f0f2-65fae55d8b0a"
      },
      "execution_count": null,
      "outputs": [
        {
          "output_type": "stream",
          "name": "stdout",
          "text": [
            "Root Mean Squared Error (RMSE) on test data = 893.155\n"
          ]
        }
      ]
    },
    {
      "cell_type": "code",
      "source": [
        "from pyspark.ml.evaluation import BinaryClassificationEvaluator\n",
        "evaluator = BinaryClassificationEvaluator(labelCol=\"Price\", rawPredictionCol='prediction')\n",
        "print(\"Test_SET (Area Under ROC): \" + str(evaluator.evaluate(predictions_gbt, {evaluator.metricName: \"areaUnderROC\"})))"
      ],
      "metadata": {
        "colab": {
          "base_uri": "https://localhost:8080/"
        },
        "id": "fqg6D-fpxNcj",
        "outputId": "72ed864f-751b-4184-b9a4-396214b2d475"
      },
      "execution_count": null,
      "outputs": [
        {
          "output_type": "stream",
          "name": "stdout",
          "text": [
            "Test_SET (Area Under ROC): 1.0\n"
          ]
        }
      ]
    },
    {
      "cell_type": "code",
      "source": [
        "evaluator = RegressionEvaluator(predictionCol=\"prediction\", labelCol=\"Price\",metricName=\"r2\")\n",
        "print(\"R Squared (R2) on test data = %g\" % evaluator.evaluate(predictions_gbt))"
      ],
      "metadata": {
        "colab": {
          "base_uri": "https://localhost:8080/"
        },
        "id": "GImiEZY3xkAJ",
        "outputId": "a65f4a2f-9905-4327-ce40-82d1fb49f967"
      },
      "execution_count": null,
      "outputs": [
        {
          "output_type": "stream",
          "name": "stdout",
          "text": [
            "R Squared (R2) on test data = 0.962221\n"
          ]
        }
      ]
    }
  ]
}